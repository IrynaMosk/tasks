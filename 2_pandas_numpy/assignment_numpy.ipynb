{
 "cells": [
  {
   "cell_type": "markdown",
   "id": "d3df79dd",
   "metadata": {},
   "source": [
    "## Упражнения по библиотеке Numpy"
   ]
  },
  {
   "cell_type": "code",
   "execution_count": 2,
   "id": "76b9c43b",
   "metadata": {},
   "outputs": [],
   "source": [
    "import numpy as np"
   ]
  },
  {
   "cell_type": "markdown",
   "id": "03727b7c",
   "metadata": {},
   "source": [
    "**1.** Дан случайный массив, поменять знак у элементов, значения которых между 3 и 8"
   ]
  },
  {
   "cell_type": "code",
   "execution_count": null,
   "id": "b89a7523",
   "metadata": {},
   "outputs": [],
   "source": [
    "array = np.random.randint(10, size=20)\n",
    "array"
   ]
  },
  {
   "cell_type": "code",
   "execution_count": 3,
   "id": "b7fb67dd",
   "metadata": {},
   "outputs": [
    {
     "data": {
      "text/plain": [
       "array([-4, -6,  1,  9,  9, -3, -4,  2, -5, -5, -6, -4, -7, -7,  2,  1, -5,\n",
       "       -3,  0,  9])"
      ]
     },
     "execution_count": 3,
     "metadata": {},
     "output_type": "execute_result"
    }
   ],
   "source": [
    "np.where(array<3, array, np.where(array>8, array, -1*array))"
   ]
  },
  {
   "cell_type": "markdown",
   "id": "5fa4abda",
   "metadata": {},
   "source": [
    "**2.** Заменить максимальный элемент случайного массива на 0"
   ]
  },
  {
   "cell_type": "code",
   "execution_count": 5,
   "id": "f2788a6e",
   "metadata": {},
   "outputs": [
    {
     "data": {
      "text/plain": [
       "array([4, 6, 1, 0, 0, 3, 4, 2, 5, 5, 6, 4, 7, 7, 2, 1, 5, 3, 0, 0])"
      ]
     },
     "execution_count": 5,
     "metadata": {},
     "output_type": "execute_result"
    }
   ],
   "source": [
    "max_val = np.amax(array)\n",
    "np.where(array==max_val, 0, array)"
   ]
  },
  {
   "cell_type": "markdown",
   "id": "3cac656b",
   "metadata": {},
   "source": [
    "**3.** Построить прямое произведение массивов (все комбинации с каждым элементом). На вход подается двумерный массив"
   ]
  },
  {
   "cell_type": "code",
   "execution_count": 14,
   "id": "3396b764",
   "metadata": {},
   "outputs": [
    {
     "data": {
      "text/plain": [
       "array([0, 3, 5, 0, 8])"
      ]
     },
     "execution_count": 14,
     "metadata": {},
     "output_type": "execute_result"
    }
   ],
   "source": [
    "array2 = np.random.randint(10, size=5)\n",
    "array2"
   ]
  },
  {
   "cell_type": "code",
   "execution_count": 15,
   "id": "e6903a74",
   "metadata": {},
   "outputs": [
    {
     "data": {
      "text/plain": [
       "array([[ 0, 12, 20,  0, 32],\n",
       "       [ 0, 18, 30,  0, 48],\n",
       "       [ 0,  3,  5,  0,  8],\n",
       "       [ 0, 27, 45,  0, 72],\n",
       "       [ 0, 27, 45,  0, 72],\n",
       "       [ 0,  9, 15,  0, 24],\n",
       "       [ 0, 12, 20,  0, 32],\n",
       "       [ 0,  6, 10,  0, 16],\n",
       "       [ 0, 15, 25,  0, 40],\n",
       "       [ 0, 15, 25,  0, 40],\n",
       "       [ 0, 18, 30,  0, 48],\n",
       "       [ 0, 12, 20,  0, 32],\n",
       "       [ 0, 21, 35,  0, 56],\n",
       "       [ 0, 21, 35,  0, 56],\n",
       "       [ 0,  6, 10,  0, 16],\n",
       "       [ 0,  3,  5,  0,  8],\n",
       "       [ 0, 15, 25,  0, 40],\n",
       "       [ 0,  9, 15,  0, 24],\n",
       "       [ 0,  0,  0,  0,  0],\n",
       "       [ 0, 27, 45,  0, 72]])"
      ]
     },
     "execution_count": 15,
     "metadata": {},
     "output_type": "execute_result"
    }
   ],
   "source": [
    "np.outer(array,array2)"
   ]
  },
  {
   "cell_type": "code",
   "execution_count": 18,
   "id": "ec5af210",
   "metadata": {},
   "outputs": [
    {
     "data": {
      "text/plain": [
       "array([[ 0,  0,  0,  0,  0,  0,  0,  0,  0,  0,  0,  0,  0,  0,  0,  0,\n",
       "         0,  0,  0,  0],\n",
       "       [12, 18,  3, 27, 27,  9, 12,  6, 15, 15, 18, 12, 21, 21,  6,  3,\n",
       "        15,  9,  0, 27],\n",
       "       [20, 30,  5, 45, 45, 15, 20, 10, 25, 25, 30, 20, 35, 35, 10,  5,\n",
       "        25, 15,  0, 45],\n",
       "       [ 0,  0,  0,  0,  0,  0,  0,  0,  0,  0,  0,  0,  0,  0,  0,  0,\n",
       "         0,  0,  0,  0],\n",
       "       [32, 48,  8, 72, 72, 24, 32, 16, 40, 40, 48, 32, 56, 56, 16,  8,\n",
       "        40, 24,  0, 72]])"
      ]
     },
     "execution_count": 18,
     "metadata": {},
     "output_type": "execute_result"
    }
   ],
   "source": [
    "# or\n",
    "np.outer(array2,array)"
   ]
  },
  {
   "cell_type": "markdown",
   "id": "674c9354",
   "metadata": {},
   "source": [
    "**4.** Даны 2 массива A (8x3) и B (2x2). Найти строки в A, которые содержат элементы из каждой строки в B, независимо от порядка элементов в B"
   ]
  },
  {
   "cell_type": "code",
   "execution_count": 150,
   "id": "5804ad72",
   "metadata": {},
   "outputs": [
    {
     "name": "stdout",
     "output_type": "stream",
     "text": [
      "Array A:\n",
      "[[1 0 3]\n",
      " [1 1 4]\n",
      " [2 4 0]\n",
      " [2 4 4]\n",
      " [0 3 4]\n",
      " [0 4 2]\n",
      " [2 4 0]\n",
      " [4 4 4]]\n",
      "\n",
      "Array B:\n",
      "[[0 2]\n",
      " [3 3]]\n",
      "\n",
      "Rows of the array A that contain elements of each row of the array B:\n",
      "[0 2 4 5 6]\n"
     ]
    }
   ],
   "source": [
    "A = np.random.randint(0, 5, size=(8, 3))\n",
    "B = np.random.randint(0, 5, size=(2, 2))\n",
    "print('Array A:')\n",
    "print(A)\n",
    "print('\\nArray B:')\n",
    "print(B)\n",
    "\n",
    "temp = (A[..., np.newaxis, np.newaxis] == B)\n",
    "rows = (temp.sum(axis=(1,2,3)) >= B.shape[1]).nonzero()[0]\n",
    "print(\"\\nRows of the array A that contain elements of each row of the array B:\")\n",
    "print(rows)"
   ]
  },
  {
   "cell_type": "markdown",
   "id": "fa46533b",
   "metadata": {},
   "source": [
    "**5.** Дана 10x3 матрица, найти строки из неравных значений (например строка [2,2,3] остается, строка [3,3,3] удаляется)"
   ]
  },
  {
   "cell_type": "code",
   "execution_count": 5,
   "id": "2403b8f9",
   "metadata": {},
   "outputs": [
    {
     "name": "stdout",
     "output_type": "stream",
     "text": [
      "[[0 1 0]\n",
      " [1 1 0]\n",
      " [0 0 1]\n",
      " [1 0 1]\n",
      " [1 0 0]\n",
      " [1 0 1]\n",
      " [1 1 1]\n",
      " [0 0 0]\n",
      " [1 1 1]\n",
      " [0 0 1]]\n",
      "\n",
      "Rows with unequal values:\n",
      "[[0 1 0]\n",
      " [1 1 0]\n",
      " [0 0 1]\n",
      " [1 0 1]\n",
      " [1 0 0]\n",
      " [1 0 1]\n",
      " [0 0 1]]\n"
     ]
    },
    {
     "data": {
      "text/plain": [
       "\"\\nprint('\\nRows with unequal values:')\\nfor i in range(10):\\n    if np.any(C[i]!=C[i][0]):\\n        print(i, C[i])\\n\""
      ]
     },
     "execution_count": 5,
     "metadata": {},
     "output_type": "execute_result"
    }
   ],
   "source": [
    "C = np.random.randint(0, 2, size=(10, 3))\n",
    "print(C)\n",
    "\n",
    "D = np.logical_and.reduce(C[:,1:] == C[:,:-1], axis = 1)\n",
    "E = C[~D]\n",
    "\n",
    "print('\\nRows with unequal values:')\n",
    "print(E)\n",
    "\n",
    "'''\n",
    "print('\\nRows with unequal values:')\n",
    "for i in range(10):\n",
    "    if np.any(C[i]!=C[i][0]):\n",
    "        print(i, C[i])\n",
    "'''\n",
    "\n"
   ]
  },
  {
   "cell_type": "markdown",
   "id": "28f0d116",
   "metadata": {},
   "source": [
    "**6.** Дан двумерный массив. Удалить те строки, которые повторяются"
   ]
  },
  {
   "cell_type": "code",
   "execution_count": 143,
   "id": "83d2c0b7",
   "metadata": {},
   "outputs": [
    {
     "data": {
      "text/plain": [
       "array([[0, 1, 2],\n",
       "       [0, 2, 2],\n",
       "       [0, 2, 3],\n",
       "       [1, 4, 0],\n",
       "       [2, 4, 4],\n",
       "       [3, 2, 3],\n",
       "       [3, 3, 1],\n",
       "       [4, 4, 3]])"
      ]
     },
     "execution_count": 143,
     "metadata": {},
     "output_type": "execute_result"
    }
   ],
   "source": [
    "np.unique(A, axis=0)"
   ]
  },
  {
   "cell_type": "markdown",
   "id": "6daa9e37",
   "metadata": {},
   "source": [
    "______\n",
    "______"
   ]
  },
  {
   "cell_type": "markdown",
   "id": "cfbfcaff",
   "metadata": {},
   "source": [
    "Для каждой из следующих задач (1-5) нужно привести 2 реализации – одна без использования numpy (cчитайте, что там, где на входе или выходе должны быть numpy array, будут просто списки), а вторая полностью векторизованная с использованием numpy (без использования питоновских циклов/map/list comprehension).\n",
    "\n",
    "\n",
    "__Замечание 1.__ Можно считать, что все указанные объекты непустые (к примеру, в __задаче 1__ на диагонали матрицы есть ненулевые элементы).\n",
    "\n",
    "__Замечание 2.__ Для большинства задач решение занимает не больше 1-2 строк."
   ]
  },
  {
   "cell_type": "markdown",
   "id": "673cac7f",
   "metadata": {},
   "source": [
    "___"
   ]
  },
  {
   "cell_type": "markdown",
   "id": "ca6f585e",
   "metadata": {},
   "source": [
    "* __Задача 1__: Подсчитать произведение ненулевых элементов на диагонали прямоугольной матрицы.  \n",
    " Например, для X = np.array([[1, 0, 1], [2, 0, 2], [3, 0, 3], [4, 4, 4]]) ответ 3."
   ]
  },
  {
   "cell_type": "code",
   "execution_count": 173,
   "id": "065862fc",
   "metadata": {},
   "outputs": [
    {
     "name": "stdout",
     "output_type": "stream",
     "text": [
      "[[1 0 1]\n",
      " [2 0 2]\n",
      " [3 0 3]\n",
      " [4 4 4]]\n"
     ]
    }
   ],
   "source": [
    "D = np.array([[1, 0, 1], [2, 0, 2], [3, 0, 3], [4, 4, 4]])\n",
    "print(D)"
   ]
  },
  {
   "cell_type": "code",
   "execution_count": 174,
   "id": "ef6dc6b0",
   "metadata": {},
   "outputs": [
    {
     "name": "stdout",
     "output_type": "stream",
     "text": [
      "3\n"
     ]
    }
   ],
   "source": [
    "a = 1\n",
    "for i in range(3):\n",
    "    for j in range(3):\n",
    "        if i == j and D[i][j] !=0:\n",
    "            a *= D[i][j]\n",
    "print(a)"
   ]
  },
  {
   "cell_type": "code",
   "execution_count": 176,
   "id": "f84f2ae9",
   "metadata": {},
   "outputs": [
    {
     "data": {
      "text/plain": [
       "3"
      ]
     },
     "execution_count": 176,
     "metadata": {},
     "output_type": "execute_result"
    }
   ],
   "source": [
    "diag = D.diagonal()\n",
    "np.prod(diag, where = diag != 0)"
   ]
  },
  {
   "cell_type": "markdown",
   "id": "9fc51d41",
   "metadata": {},
   "source": [
    "* __Задача 2__: Даны два вектора x и y. Проверить, задают ли они одно и то же мультимножество.  \n",
    "  Например, для x = np.array([1, 2, 2, 4]), y = np.array([4, 2, 1, 2]) ответ True."
   ]
  },
  {
   "cell_type": "code",
   "execution_count": 195,
   "id": "a809e02f",
   "metadata": {},
   "outputs": [
    {
     "data": {
      "text/plain": [
       "True"
      ]
     },
     "execution_count": 195,
     "metadata": {},
     "output_type": "execute_result"
    }
   ],
   "source": [
    "x = np.array([1, 2, 2, 4])\n",
    "y = np.array([4, 2, 1, 2])\n",
    "\n",
    "x.sort() == y.sort()"
   ]
  },
  {
   "cell_type": "code",
   "execution_count": 200,
   "id": "ec4d7fa7",
   "metadata": {},
   "outputs": [
    {
     "data": {
      "text/plain": [
       "True"
      ]
     },
     "execution_count": 200,
     "metadata": {},
     "output_type": "execute_result"
    }
   ],
   "source": [
    "x = np.array([1, 2, 2, 4])\n",
    "y = np.array([4, 2, 1, 2])\n",
    "\n",
    "np.array_equal(np.sort(x), np.sort(y))"
   ]
  },
  {
   "cell_type": "markdown",
   "id": "b9c185c7",
   "metadata": {},
   "source": [
    "* __Задача 3__: Найти максимальный элемент в векторе x среди элементов, перед которыми стоит ноль. \n",
    " Например, для x = np.array([6, 2, 0, 3, 0, 0, 5, 7, 0]) ответ 5."
   ]
  },
  {
   "cell_type": "code",
   "execution_count": 233,
   "id": "b57df008",
   "metadata": {},
   "outputs": [
    {
     "data": {
      "text/plain": [
       "5"
      ]
     },
     "execution_count": 233,
     "metadata": {},
     "output_type": "execute_result"
    }
   ],
   "source": [
    "x = np.array([6, 2, 0, 3, 0, 0, 5, 7, 0])\n",
    "\n",
    "filtered = []\n",
    "j=0\n",
    "\n",
    "for i in x:\n",
    "    j += 1\n",
    "    if i == 0 and j <= len(x)-1:\n",
    "        filtered.append(x[j])\n",
    "\n",
    "max(filtered)"
   ]
  },
  {
   "cell_type": "code",
   "execution_count": 269,
   "id": "8ed87746",
   "metadata": {},
   "outputs": [
    {
     "data": {
      "text/plain": [
       "5"
      ]
     },
     "execution_count": 269,
     "metadata": {},
     "output_type": "execute_result"
    }
   ],
   "source": [
    "x = np.array([6, 2, 0, 3, 0, 0, 5, 7, 0])\n",
    "\n",
    "ind = np.array(np.where(x == 0)) + 1\n",
    "ind_limited = ind[ind <= len(x)-1]\n",
    "\n",
    "max(np.take(x, ind_limited))"
   ]
  },
  {
   "cell_type": "markdown",
   "id": "480be4ce",
   "metadata": {},
   "source": [
    "* __Задача 4__: Реализовать кодирование длин серий (Run-length encoding). Для некоторого вектора x необходимо вернуть кортеж из двух векторов одинаковой длины. Первый содержит числа, а второй - сколько раз их нужно повторить.  \n",
    " Например, для x = np.array([2, 2, 2, 3, 3, 3, 5]) ответ (np.array([2, 3, 5]), np.array([3, 3, 1]))."
   ]
  },
  {
   "cell_type": "code",
   "execution_count": 309,
   "id": "3c592124",
   "metadata": {},
   "outputs": [
    {
     "data": {
      "text/plain": [
       "(array([2, 3, 5]), array([3, 3, 1]))"
      ]
     },
     "execution_count": 309,
     "metadata": {},
     "output_type": "execute_result"
    }
   ],
   "source": [
    "x = np.array([2, 2, 2, 3, 3, 3, 5])\n",
    "  \n",
    "compressed = []\n",
    "counts = []\n",
    "count = 1\n",
    "num = x[0]\n",
    "for i in range(1,len(x)):\n",
    "    if x[i] == num:\n",
    "      count = count + 1\n",
    "    else :\n",
    "      compressed.append(num)\n",
    "      counts.append(count)\n",
    "      num = x[i]\n",
    "      count = 1\n",
    "compressed.append(num)\n",
    "counts.append(count)\n",
    "        \n",
    "np.array(compressed), np.array(counts)"
   ]
  },
  {
   "cell_type": "code",
   "execution_count": 324,
   "id": "02c15940",
   "metadata": {},
   "outputs": [
    {
     "data": {
      "text/plain": [
       "(array([2, 3, 5]), array([3, 3, 1]))"
      ]
     },
     "execution_count": 324,
     "metadata": {},
     "output_type": "execute_result"
    }
   ],
   "source": [
    "x = np.array([2, 2, 2, 3, 3, 3, 5])\n",
    "  \n",
    "compressed = []\n",
    "counts = []\n",
    "change = (x[1:] != x[:-1])\n",
    "ind = np.append(np.where(change), len(x)-1)\n",
    "count = np.diff(np.append(-1,ind))\n",
    " \n",
    "for i in range(0,len(count)):\n",
    "    compressed = np.append(compressed, x[ind][i])\n",
    "    counts = np.append(counts, count[i])\n",
    " \n",
    "np.array(compressed).astype(int), np.array(counts).astype(int)"
   ]
  },
  {
   "cell_type": "markdown",
   "id": "077532ec",
   "metadata": {},
   "source": [
    "* __Задача 5__: Даны две выборки объектов - X и Y. Вычислить матрицу евклидовых расстояний между объектами. Сравните с функцией scipy.spatial.distance.cdist по скорости работы."
   ]
  },
  {
   "cell_type": "code",
   "execution_count": 354,
   "id": "1e807797",
   "metadata": {},
   "outputs": [
    {
     "name": "stdout",
     "output_type": "stream",
     "text": [
      "Array X:\n",
      "[[3 1 1 4 2]\n",
      " [2 1 0 4 0]\n",
      " [0 2 4 4 0]\n",
      " [3 3 2 4 1]\n",
      " [1 3 2 2 0]]\n",
      "\n",
      "Array Y:\n",
      "[[4 1 2 0 3]\n",
      " [0 1 3 1 4]\n",
      " [1 4 4 3 0]\n",
      " [1 0 1 2 4]\n",
      " [3 1 1 2 4]]\n"
     ]
    }
   ],
   "source": [
    "import scipy\n",
    "import time\n",
    "\n",
    "X = np.random.randint(0, 5, size=(5, 5))\n",
    "Y = np.random.randint(0, 5, size=(5, 5))\n",
    "print('Array X:')\n",
    "print(X)\n",
    "print('\\nArray Y:')\n",
    "print(Y)"
   ]
  },
  {
   "cell_type": "code",
   "execution_count": 356,
   "id": "92175989",
   "metadata": {},
   "outputs": [
    {
     "name": "stdout",
     "output_type": "stream",
     "text": [
      "\n",
      "Result:\n",
      "[[4.35889894 5.09901951 5.19615242 3.60555128 2.82842712]\n",
      " [5.74456265 6.164414   5.19615242 4.79583152 4.69041576]\n",
      " [6.78232998 5.19615242 2.44948974 5.83095189 6.244998  ]\n",
      " [5.         5.65685425 3.31662479 5.19615242 4.24264069]\n",
      " [5.09901951 4.79583152 2.44948974 5.09901951 5.        ]]\n",
      "--- 0.0020020008087158203 seconds ---\n"
     ]
    }
   ],
   "source": [
    "start_time = time.time()\n",
    "\n",
    "P = np.add.outer(np.sum(X**2, axis=1), np.sum(Y**2, axis=1))\n",
    "N = np.dot(X, Y.T)\n",
    "print('\\nResult:')\n",
    "print(np.sqrt(P - 2*N))\n",
    "\n",
    "print(\"--- %s seconds ---\" % (time.time() - start_time))"
   ]
  },
  {
   "cell_type": "code",
   "execution_count": 355,
   "id": "4a5aecb3",
   "metadata": {},
   "outputs": [
    {
     "name": "stdout",
     "output_type": "stream",
     "text": [
      "[[4.35889894 5.09901951 5.19615242 3.60555128 2.82842712]\n",
      " [5.74456265 6.164414   5.19615242 4.79583152 4.69041576]\n",
      " [6.78232998 5.19615242 2.44948974 5.83095189 6.244998  ]\n",
      " [5.         5.65685425 3.31662479 5.19615242 4.24264069]\n",
      " [5.09901951 4.79583152 2.44948974 5.09901951 5.        ]]\n",
      "--- 0.0009870529174804688 seconds ---\n"
     ]
    }
   ],
   "source": [
    "start_time = time.time()\n",
    "\n",
    "print(scipy.spatial.distance.cdist(X, Y))\n",
    "\n",
    "print(\"--- %s seconds ---\" % (time.time() - start_time))"
   ]
  },
  {
   "cell_type": "markdown",
   "id": "1a86228e",
   "metadata": {},
   "source": [
    "_______\n",
    "________"
   ]
  },
  {
   "cell_type": "markdown",
   "id": "1104acb7",
   "metadata": {},
   "source": [
    "* #### __Задача 6__: CrunchieMunchies __*__\n",
    "\n",
    "Вы работаете в отделе маркетинга пищевой компании MyCrunch, которая разрабатывает новый вид вкусных, полезных злаков под названием **CrunchieMunchies**.\n",
    "\n",
    "Вы хотите продемонстрировать потребителям, насколько полезны ваши хлопья по сравнению с другими ведущими брендами, поэтому вы собрали данные о питании нескольких разных конкурентов.\n",
    "\n",
    "Ваша задача - использовать вычисления Numpy для анализа этих данных и доказать, что ваши **СrunchieMunchies** - самый здоровый выбор для потребителей.\n"
   ]
  },
  {
   "cell_type": "code",
   "execution_count": 1,
   "id": "10a77f8d",
   "metadata": {},
   "outputs": [],
   "source": [
    "import numpy as np"
   ]
  },
  {
   "cell_type": "markdown",
   "id": "ab87cb03",
   "metadata": {},
   "source": [
    "1. Просмотрите файл cereal.csv. Этот файл содержит количества калорий для различных марок хлопьев. Загрузите данные из файла и сохраните их как calorie_stats."
   ]
  },
  {
   "cell_type": "code",
   "execution_count": 2,
   "id": "9681ebf2",
   "metadata": {},
   "outputs": [
    {
     "data": {
      "text/plain": [
       "array([ 70., 120.,  70.,  50., 110., 110., 110., 130.,  90.,  90., 120.,\n",
       "       110., 120., 110., 110., 110., 100., 110., 110., 110., 100., 110.,\n",
       "       100., 100., 110., 110., 100., 120., 120., 110., 100., 110., 100.,\n",
       "       110., 120., 120., 110., 110., 110., 140., 110., 100., 110., 100.,\n",
       "       150., 150., 160., 100., 120., 140.,  90., 130., 120., 100.,  50.,\n",
       "        50., 100., 100., 120., 100.,  90., 110., 110.,  80.,  90.,  90.,\n",
       "       110., 110.,  90., 110., 140., 100., 110., 110., 100., 100., 110.])"
      ]
     },
     "execution_count": 2,
     "metadata": {},
     "output_type": "execute_result"
    }
   ],
   "source": [
    "calorie_stats = np.loadtxt(\"./data/cereal.csv\", delimiter=\",\")\n",
    "calorie_stats"
   ]
  },
  {
   "cell_type": "markdown",
   "id": "139cfbd8",
   "metadata": {},
   "source": [
    "2. В одной порции CrunchieMunchies содержится 60 калорий. Насколько выше среднее количество калорий у ваших конкурентов?\n",
    "\n",
    "Сохраните ответ в переменной average_calories и распечатайте переменную в терминале"
   ]
  },
  {
   "cell_type": "code",
   "execution_count": 7,
   "id": "7036d240",
   "metadata": {},
   "outputs": [
    {
     "name": "stdout",
     "output_type": "stream",
     "text": [
      "Average calories of competitors :  106.88311688311688\n",
      "Calories difference between CrunchieMunchies and competitors:  46.883116883116884\n"
     ]
    }
   ],
   "source": [
    "average_calories = calorie_stats.mean()\n",
    "calories_difference = average_calories - 60\n",
    "\n",
    "print('Average calories of competitors : ', average_calories)\n",
    "print('Calories difference between CrunchieMunchies and competitors: ', calories_difference)"
   ]
  },
  {
   "cell_type": "markdown",
   "id": "b2ddb4cd",
   "metadata": {},
   "source": [
    "3. Корректно ли среднее количество калорий отражает распределение набора данных? Давайте отсортируем данные и посмотрим.\n",
    "\n",
    "Отсортируйте данные и сохраните результат в переменной calorie_stats_sorted. Распечатайте отсортированную информацию"
   ]
  },
  {
   "cell_type": "code",
   "execution_count": 8,
   "id": "46eeb4ed",
   "metadata": {},
   "outputs": [
    {
     "name": "stdout",
     "output_type": "stream",
     "text": [
      "[ 50.  50.  50.  70.  70.  80.  90.  90.  90.  90.  90.  90.  90. 100.\n",
      " 100. 100. 100. 100. 100. 100. 100. 100. 100. 100. 100. 100. 100. 100.\n",
      " 100. 100. 110. 110. 110. 110. 110. 110. 110. 110. 110. 110. 110. 110.\n",
      " 110. 110. 110. 110. 110. 110. 110. 110. 110. 110. 110. 110. 110. 110.\n",
      " 110. 110. 110. 120. 120. 120. 120. 120. 120. 120. 120. 120. 120. 130.\n",
      " 130. 140. 140. 140. 150. 150. 160.]\n"
     ]
    }
   ],
   "source": [
    "calorie_stats_sorted = np.sort(calorie_stats)\n",
    "\n",
    "print(calorie_stats_sorted)"
   ]
  },
  {
   "cell_type": "markdown",
   "id": "4dc74116",
   "metadata": {},
   "source": [
    "4. Похоже, что большинство значений выше среднего. Давайте посмотрим, является ли медиана наиболее корректным показателем набора данных.\n",
    "\n",
    "Вычислите медиану набора данных и сохраните свой ответ в median_calories. Выведите медиану, чтобы вы могли видеть, как она сравнивается со средним значением."
   ]
  },
  {
   "cell_type": "code",
   "execution_count": null,
   "id": "b56627c3",
   "metadata": {},
   "outputs": [],
   "source": [
    "median_calories = np.median(calorie_stats)\n",
    "\n",
    "print('Median: ', median_calories)\n",
    "print('Average: ', average_calories)"
   ]
  },
  {
   "cell_type": "markdown",
   "id": "a63ab72f",
   "metadata": {},
   "source": [
    "5. В то время как медиана показывает, что по крайней мере половина наших значений составляет более 100 калорий, было бы более впечатляюще показать, что значительная часть конкурентов имеет более высокое количество калорий, чем CrunchieMunchies.\n",
    "\n",
    "Рассчитайте различные процентили и распечатайте их, пока не найдете наименьший процентиль, превышающий 60 калорий. Сохраните это значение в переменной nth_percentile."
   ]
  },
  {
   "cell_type": "code",
   "execution_count": 27,
   "id": "fe80ce03",
   "metadata": {},
   "outputs": [
    {
     "name": "stdout",
     "output_type": "stream",
     "text": [
      "4\n"
     ]
    }
   ],
   "source": [
    "for nth_percentile in range (100):\n",
    "    p = np.percentile(calorie_stats, nth_percentile)\n",
    "    if p > 60:\n",
    "        break\n",
    "\n",
    "print(nth_percentile)"
   ]
  },
  {
   "cell_type": "markdown",
   "id": "a2a3c5aa",
   "metadata": {},
   "source": [
    "6. Хотя процентиль показывает нам, что у большинства конкурентов количество калорий намного выше, это неудобная концепция для использования в маркетинговых материалах.\n",
    "\n",
    "Вместо этого давайте подсчитаем процент хлопьев, в которых содержится более 60 калорий на порцию. Сохраните свой ответ в переменной more_calories и распечатайте его"
   ]
  },
  {
   "cell_type": "code",
   "execution_count": 33,
   "id": "ade0f6ea",
   "metadata": {},
   "outputs": [
    {
     "name": "stdout",
     "output_type": "stream",
     "text": [
      "96.1038961038961\n"
     ]
    }
   ],
   "source": [
    "size_all = np.size(calorie_stats)\n",
    "size_more = np.size(calorie_stats[np.where(calorie_stats > 60)])\n",
    "\n",
    "more_calories = 100*size_more/size_all\n",
    "\n",
    "print(more_calories)"
   ]
  },
  {
   "cell_type": "markdown",
   "id": "1735d65b",
   "metadata": {},
   "source": [
    "7. Это действительно высокий процент. Это будет очень полезно, когда мы будем продвигать CrunchieMunchies. Но один вопрос заключается в том, насколько велики различия в наборе данных? Можем ли мы сделать обобщение, что в большинстве злаков содержится около 100 калорий или разброс еще больше?\n",
    "\n",
    "Рассчитайте величину отклонения, найдя стандартное отклонение, Сохраните свой ответ в calorie_std и распечатайте на терминале. Как мы можем включить эту ценность в наш анализ?"
   ]
  },
  {
   "cell_type": "code",
   "execution_count": 34,
   "id": "85c8df1f",
   "metadata": {},
   "outputs": [
    {
     "name": "stdout",
     "output_type": "stream",
     "text": [
      "19.35718533390827\n"
     ]
    }
   ],
   "source": [
    "calorie_std = np.std(calorie_stats)\n",
    "print(calorie_std)"
   ]
  },
  {
   "cell_type": "markdown",
   "id": "037455c5",
   "metadata": {},
   "source": [
    "8. Напишите короткий абзац, в котором кратко изложите свои выводы и то, как, по вашему мнению, эти данные могут быть использованы в интересах Mycrunch при маркетинге CrunchieMunchies."
   ]
  },
  {
   "cell_type": "markdown",
   "id": "cc855269",
   "metadata": {},
   "source": [
    "As we can see, over 96% of other cereals have more calories than CrunchieMunchies. The average value of this indicator for them is 107. At the same time, the standard deviation is 19. That is, most competitors have calories from 88 to 126.\n",
    "Thus, we can use in our advertising campaign the fact that CrunchieMunchies is a healthier product, as it contains significantly fewer calories than most other cereals."
   ]
  },
  {
   "cell_type": "code",
   "execution_count": null,
   "id": "b578030a",
   "metadata": {},
   "outputs": [],
   "source": []
  }
 ],
 "metadata": {
  "kernelspec": {
   "display_name": "Python 3",
   "language": "python",
   "name": "python3"
  },
  "language_info": {
   "codemirror_mode": {
    "name": "ipython",
    "version": 3
   },
   "file_extension": ".py",
   "mimetype": "text/x-python",
   "name": "python",
   "nbconvert_exporter": "python",
   "pygments_lexer": "ipython3",
   "version": "3.8.8"
  }
 },
 "nbformat": 4,
 "nbformat_minor": 5
}
